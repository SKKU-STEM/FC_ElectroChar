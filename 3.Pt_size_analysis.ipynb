{
 "cells": [
  {
   "cell_type": "code",
   "execution_count": 1,
   "metadata": {},
   "outputs": [],
   "source": [
    "import os\n",
    "import numpy as np\n",
    "from tqdm import tqdm\n",
    "from math import pi"
   ]
  },
  {
   "cell_type": "code",
   "execution_count": 2,
   "metadata": {},
   "outputs": [
    {
     "name": "stdout",
     "output_type": "stream",
     "text": [
      "single area : 0.002298398135757832 +- 0.0018592614292509432, agg area : 0.012988269306028253 +- 0.03195819677734273\n",
      "single area : 0.002777989647479299 +- 0.0023840068970891843, agg area : 0.013715675423051382 +- 0.032695801899468406\n",
      "unit : um\n"
     ]
    }
   ],
   "source": [
    "src_dir_list = [\"BOL\", \"EOL\"]\n",
    "\n",
    "for src_dir in src_dir_list:\n",
    "    data_list = os.listdir(src_dir)\n",
    "\n",
    "    data_num_list = []\n",
    "\n",
    "    for data in data_list:\n",
    "        if \".tif\" in data:\n",
    "            data_num_list.append(data[:-4])\n",
    "\n",
    "\n",
    "    for sampling_num in range(100, 101):\n",
    "        statistic_arr = []\n",
    "        for try_idx in range(1, 2):\n",
    "            np.random.shuffle(data_num_list)\n",
    "            for i in range(sampling_num):\n",
    "                if i == 0:\n",
    "                    single_area = np.loadtxt(f\"{src_dir}/{data_num_list[i]}_single_area.csv\", delimiter = \",\")\n",
    "                    agg_area = np.loadtxt(f\"{src_dir}/{data_num_list[i]}_agg_area.csv\", delimiter = \",\")\n",
    "                else:\n",
    "                    try:\n",
    "                        single_area = np.concatenate((single_area, np.loadtxt(f\"{src_dir}/{data_num_list[i]}_single_area.csv\", delimiter = \",\")), axis = 0)\n",
    "                    except:\n",
    "                        pass\n",
    "                \n",
    "                    try:\n",
    "                        agg_area = np.concatenate((agg_area, np.loadtxt(f\"{src_dir}/{data_num_list[i]}_agg_area.csv\", delimiter = \",\")), axis = 0)\n",
    "                    except:\n",
    "                        pass\n",
    "            statistic_arr.append([single_area.mean(), single_area.std(), agg_area.mean(), agg_area.std()])\n",
    "        statistic_arr = np.array(statistic_arr)\n",
    "        np.savetxt(f'{src_dir}_single_area.scv', ((single_area/(pi))**(0.5)*1000), delimiter=\",\")\n",
    "        np.savetxt(f'{src_dir}_agg_area.scv', ((agg_area/(pi))**(0.5)*1000), delimiter=\",\")\n",
    "        #np.savetxt(f\"{src_dir}_sampling{sampling_num}.csv\", statistic_arr, delimiter = \",\")\n",
    "    print(f'single area : {(2*statistic_arr[0, 0]/(pi))**(0.5)} +- {(2*statistic_arr[0, 1]/(pi))**(0.5)}, agg area : {(2*statistic_arr[0, 2]/(pi))**(0.5)} +- {(2*statistic_arr[0, 3]/(pi))**(0.5)}')\n",
    "    #print(statistic_arr.mean(axis = 0))\n",
    "print('unit : um')"
   ]
  },
  {
   "cell_type": "code",
   "execution_count": null,
   "metadata": {},
   "outputs": [],
   "source": []
  }
 ],
 "metadata": {
  "kernelspec": {
   "display_name": "venv_py38",
   "language": "python",
   "name": "python3"
  },
  "language_info": {
   "codemirror_mode": {
    "name": "ipython",
    "version": 3
   },
   "file_extension": ".py",
   "mimetype": "text/x-python",
   "name": "python",
   "nbconvert_exporter": "python",
   "pygments_lexer": "ipython3",
   "version": "3.8.13"
  },
  "orig_nbformat": 4
 },
 "nbformat": 4,
 "nbformat_minor": 2
}
